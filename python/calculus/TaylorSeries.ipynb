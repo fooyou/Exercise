{
 "cells": [
  {
   "cell_type": "markdown",
   "metadata": {},
   "source": [
    "# 泰勒级数\n",
    "\n",
    "## 泰勒级数(Taylor Series)\n",
    "\n",
    "在前几章的预热之后，读者可能会有这样的疑问，是否任何函数都可以写成友善的多项式形式呢？目前为止，我们介绍的 $e^x,sin(x),cos(x)$ 都有其奇妙的多项式形式。这些多项式形式实际为这些函数在 $x=0$ 处展开的泰勒级数。\n",
    "\n",
    "下面我们给出函数 $f(x)$ 在 $x=0$ 处展开的泰勒级数的定义：\n",
    "\n",
    "$$f(x)=f(0)+\\frac{f'(0)}{1!}x+\\frac{f''(0)}{2!}x^2+\\frac{f'''(0)}{3!}x^3+\\dots=\\sum_{k=0}^{\\infty}\\frac{f^{(k)}(0)}{k!}x^k$$\n",
    "\n",
    "其中： $f^{(k)}(0)$ 表示函数 $f$ 的 $k$ 次导函数在点 $x=0$ 处的取值。\n",
    "\n",
    "我们知道对 $e^x$ 无论计算多少次导数结果都是 $e^x$（前面也推荐读者自己验证过），即：\n",
    "\n",
    "$exp'(x) = exp''(x) = exp'''(x) = \\cdots = exp^{(k)}(x) = exp(x)$\n",
    "\n",
    "$exp'(0) = exp''(0) = exp'''(0) = \\cdots = exp^{(k)}(0) = exp(0) = 1$\n",
    "\n",
    "因而，依据上面的定义展开有：\n",
    "\n",
    "$exp(x) = exp(0) + \\frac{exp'(0)}{1!}x + \\frac{exp''(0)}{2!}x + \\frac{exp'''(0)}{3!}x + \\cdots$\n",
    "\n",
    "$\\qquad = 1 + \\frac{x}{1!} + \\frac{x}{2!} + \\frac{x}{3!} + \\cdots$\n",
    "\n",
    "$\\qquad = \\sum_{k=0}^{\\infty}\\frac{x^k}{k!}$\n",
    "\n",
    "这样便得到了前面的公式。\n",
    "\n",
    "类似地，有兴趣的读者可以尝试用泰勒级数的定义来推导一下 $sin(x), cos(x)$ 关于 $x=0$ 处展开的泰勒级数。\n",
    "\n",
    "\n",
    "## 多项式近似（Polynomial Approximantion）\n",
    "\n",
    "泰勒级数可以把非常复杂的函数转变成无限项的和的形式。通常，我们可以只计算泰勒级数的前几项之和，便能够获得原函数的局部近似了。在做这样的多项式近似时，我们所计算的项越多，则近似的结果越精确。\n",
    "\n",
    "下面，在Python中试试吧："
   ]
  },
  {
   "cell_type": "code",
   "execution_count": 3,
   "metadata": {},
   "outputs": [
    {
     "name": "stdout",
     "output_type": "stream",
     "text": [
      "0\n"
     ]
    },
    {
     "data": {
      "image/png": "[encoded data removed]",
      "text/plain": [
       "<matplotlib.figure.Figure at 0x111300908>"
      ]
     },
     "metadata": {},
     "output_type": "display_data"
    }
   ],
   "source": [
    "import sympy\n",
    "import numpy as np\n",
    "import matplotlib.pyplot as plt\n",
    "\n",
    "# 指定x为符号\n",
    "x = sympy.Symbol('x')\n",
    "# exp为公式\n",
    "exp = np.e**x\n",
    "# 下面开始求和，求前20项的和\n",
    "sums = 0\n",
    "for i in range(20):\n",
    "    # 求 i 次导函数\n",
    "    numerator = exp.diff(x, i)\n",
    "    #计算导函数在 x=0 处的值\n",
    "    numerator = numerator.evalf(subs={x:0})\n",
    "    denominator = np.math.factorial(i)\n",
    "    sums += numerator / denominator * x**i\n",
    "\n",
    "# 检验一下原始 exp 函数和其在 x=0 处展开的泰勒级数前 20 项之和的差距\n",
    "print(exp.evalf(subs={x:0}) - sums.evalf(subs={x:0}))\n",
    "\n",
    "xvals = np.linspace(0, 20, 50)\n",
    "for xval in xvals:\n",
    "    plt.plot(xval, exp.evalf(subs={x:xval}), 'bo',\\\n",
    "             xval, sums.evalf(subs={x:xval}), 'ro')\n",
    "plt.show()"
   ]
  },
  {
   "cell_type": "markdown",
   "metadata": {},
   "source": [
    "表明指数函数 $e^x$ 在 $x=0$ 处展开的泰勒级数只取前20项的话，在输入值越接近展开点 $x=0$ 处的近似效果就越好。\n",
    "\n",
    "让我们看看采用不同项数所计算出来的近似结果之间的差异："
   ]
  },
  {
   "cell_type": "code",
   "execution_count": 15,
   "metadata": {},
   "outputs": [
    {
     "data": {
      "image/png": "[encoded data removed]",
      "text/plain": [
       "<matplotlib.figure.Figure at 0x11402fc50>"
      ]
     },
     "metadata": {},
     "output_type": "display_data"
    }
   ],
   "source": [
    "def polyApprox(func, num_terms):\n",
    "    # 当我们需要反复做类似的步骤的时候，最好将步骤定义为一个函数\n",
    "    sums = 0\n",
    "    for i in range(num_terms):\n",
    "        numerator = func.diff(x, i)\n",
    "        numerator = numerator.evalf(subs={x:0})\n",
    "        denominator = np.math.factorial(i)\n",
    "        sums += numerator / denominator * x**i\n",
    "    return sums\n",
    "\n",
    "sum5 = polyApprox(exp, 5)\n",
    "sum10 = polyApprox(exp, 10)\n",
    "\n",
    "# 利用 sympy 我们也可以获得泰勒级数：\n",
    "sum15 = exp.series(x,0,15).removeO()\n",
    "# sum15 = polyApprox(exp, 15)\n",
    "\n",
    "xvals = np.linspace(5, 10, 50)\n",
    "for xval in xvals:\n",
    "    plt.plot(xval, exp.evalf(subs={x:xval}), 'bo',\\\n",
    "             xval, sum5.evalf(subs={x:xval}), 'ro',\\\n",
    "             xval, sum10.evalf(subs={x:xval}), 'go',\\\n",
    "             xval, sum15.evalf(subs={x:xval}), 'yo')\n",
    "plt.show()"
   ]
  },
  {
   "cell_type": "markdown",
   "metadata": {},
   "source": [
    "## 展开点（Expansion point）\n",
    "\n",
    "上面我们获得的泰勒级数都是围绕着 $x=0$ 处获得的，我们发现多项式近似也只在 $x=0$ 处较为准确。如果我们希望在其他位置获得类似的多项式近似，则可以在不同的展开点（例如 $x=a$ ）获得泰勒级数：\n",
    "\n",
    "$$f(x) = f(a) + \\frac{f'(a)}{1!}(x-a) + \\frac{f''(a)}{2!}(x-a)^2 + \\frac{f'''(a)}{3!}(x-a)^3 + \\cdots = \\sum_{k=0}^{\\infty}\\frac{f^{(k)}(a)}{k!}(x-a)^k$$\n",
    "\n",
    "Python中，这也非常容易："
   ]
  },
  {
   "cell_type": "code",
   "execution_count": 16,
   "metadata": {},
   "outputs": [
    {
     "name": "stdout",
     "output_type": "stream",
     "text": [
      "tanh(2) + (x - 2)*(-tanh(2)**2 + 1) + (x - 2)**2*(-tanh(2) + tanh(2)**3) + O((x - 2)**3, (x, 2))\n"
     ]
    }
   ],
   "source": [
    "def taylorExpansion(func, var, expPoint, numTerms):\n",
    "    return func.series(var, expPoint, numTerms)\n",
    "\n",
    "print(taylorExpansion(sympy.tanh(x), x, 2, 3))"
   ]
  }
 ],
 "metadata": {
  "kernelspec": {
   "display_name": "Python 3",
   "language": "python",
   "name": "python3"
  },
  "language_info": {
   "codemirror_mode": {
    "name": "ipython",
    "version": 3
   },
   "file_extension": ".py",
   "mimetype": "text/x-python",
   "name": "python",
   "nbconvert_exporter": "python",
   "pygments_lexer": "ipython3",
   "version": "3.6.2"
  }
 },
 "nbformat": 4,
 "nbformat_minor": 2
}
