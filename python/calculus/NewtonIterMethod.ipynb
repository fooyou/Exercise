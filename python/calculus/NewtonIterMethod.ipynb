{
 "cells": [
  {
   "cell_type": "markdown",
   "metadata": {},
   "source": [
    "# 牛顿迭代法\n",
    "\n",
    "## 求二次根\n",
    "\n",
    "各位同学可能遇到过这样的编程题目，要求在不使用 $x^{\\frac{1}{2}}$ 或 $\\sqrt{x}$ 的前提下，求解 $C$ 的正二次根。\n",
    "\n",
    "可以用牛顿迭代法解："
   ]
  },
  {
   "cell_type": "code",
   "execution_count": 1,
   "metadata": {},
   "outputs": [
    {
     "name": "stdout",
     "output_type": "stream",
     "text": [
      "After 1 iteration, the root value is updated to 1.500000\n",
      "After 2 iteration, the root value is updated to 1.416667\n",
      "After 3 iteration, the root value is updated to 1.414216\n",
      "After 4 iteration, the root value is updated to 1.414214\n",
      "1.4142135623746899\n"
     ]
    }
   ],
   "source": [
    "def mysqrt(c, x=1, maxiter=10, prt_step=False):\n",
    "    for i in range(maxiter):\n",
    "        x = 0.5 * (x + c/x)\n",
    "        if prt_step == True:\n",
    "            # 在输出时，{0}和{1}将被 i+1 和 x 所替代\n",
    "            print('After %d iteration, the root value is updated to %f' % (i+1, x))\n",
    "    return x\n",
    "\n",
    "print(mysqrt(2, maxiter=4, prt_step=True))"
   ]
  },
  {
   "cell_type": "markdown",
   "metadata": {},
   "source": [
    "## 牛顿迭代法（Newton's Itervative Method）\n",
    "\n",
    "上面的求正二次根问题，等价于求 $f(x) = x^2 - c = 0$ 的正根，根据上一节介绍的线性近似：$f(x+h) \\approx f(x) + f'(x)h$ 如果 $x+h$ 是 $f(x)=0$ 的一个根，即 $f(x+h)=0$，则：\n",
    "\n",
    "$h\\approx -\\frac{f(x)}{f'(x)}$\n",
    "\n",
    "$x+h \\approx x-\\frac{f(x)}{f'(x)}$\n",
    "\n",
    "因此，如果我们对 $f(x)=0$ 的正根有一个初始估计 $x0$，便可以用上面的近似不断获取更加准确的估计值，方法为：\n",
    "\n",
    "$x_{n+1} = x_n - \\frac{f(x_n)}{f'(x_n)}$\n",
    "\n",
    "将 $f(x) = x^2 -C$ 带入上式，便会得到代码中的更新规则了。\n",
    "\n",
    "通过绘图我们能进一步了解这个方法（喜闻乐见的绘图时刻又到了！）："
   ]
  },
  {
   "cell_type": "code",
   "execution_count": 2,
   "metadata": {},
   "outputs": [
    {
     "data": {
      "image/png": "[encoded data removed]",
      "text/plain": [
       "<matplotlib.figure.Figure at 0x1105b5be0>"
      ]
     },
     "metadata": {},
     "output_type": "display_data"
    }
   ],
   "source": [
    "import numpy as np\n",
    "import matplotlib.pyplot as plt\n",
    "\n",
    "f = lambda x: x**2 - 2*x - 4\n",
    "l1 = lambda x: 2*x - 8\n",
    "l2 = lambda x: 6*x - 20\n",
    "\n",
    "x = np.linspace(0, 5, 100)\n",
    "plt.plot(x, f(x), 'black')\n",
    "r1 = x[30:80]\n",
    "r2 = x[66:]\n",
    "plt.plot(r1, l1(r1), 'blue', linestyle='--')\n",
    "plt.plot(r2, l2(r2), 'blue', linestyle='--')\n",
    "\n",
    "l = plt.axhline(y=0,xmin=0,xmax=1,color = 'black')\n",
    "l = plt.axvline(x=2,ymin=2.0/18,ymax=6.0/18, linestyle = '--')\n",
    "l = plt.axvline(x=4,ymin=6.0/18,ymax=10.0/18, linestyle = '--')\n",
    "\n",
    "plt.text(1.9,0.5,r\"$x_0$\", fontsize = 18)\n",
    "plt.text(3.9,-1.5,r\"$x_1$\", fontsize = 18)\n",
    "plt.text(3.1,1.3,r\"$x_2$\", fontsize = 18)\n",
    "\n",
    "\n",
    "plt.plot(2,0,marker = 'o', color = 'r' )\n",
    "plt.plot(2,-4,marker = 'o', color = 'r' )\n",
    "plt.plot(4,0,marker = 'o', color = 'r' )\n",
    "plt.plot(4,4,marker = 'o', color = 'r' )\n",
    "plt.plot(10.0/3,0,marker = 'o', color = 'r' )\n",
    "\n",
    "plt.show()"
   ]
  },
  {
   "cell_type": "markdown",
   "metadata": {},
   "source": [
    "我们要猜 $f(x) = x^2 - 2x - 4 = 0$ 的解，从 $x_0 = 4$ 的初始猜测值开始，找到 $f(x)$ 在 $x = x_0$ 处的切线 $y = 2x - 8$, 找到其与 $y = 0$ 的交点 $(4, 0)$，将该交点更新为新的猜测的解 $x_1 = 4$，如此循环。\n",
    "\n",
    "如下定义牛顿迭代法："
   ]
  },
  {
   "cell_type": "code",
   "execution_count": 4,
   "metadata": {},
   "outputs": [
    {
     "name": "stdout",
     "output_type": "stream",
     "text": [
      "After 1 iteration, the solution is updated to 4\n",
      "After 2 iteration, the solution is updated to 10/3\n",
      "After 3 iteration, the solution is updated to 68/21\n",
      "After 4 iteration, the solution is updated to 3194/987\n",
      "3194/987\n"
     ]
    }
   ],
   "source": [
    "def NewTon(f, s=1, maxiter=100, prt_step=False):\n",
    "    for i in range(maxiter):\n",
    "        # 相较于 f.evalf(subs={x:s}), subs() 是更好的将值带入并计算方法\n",
    "        s = s - f.subs(x, s) / f.diff().subs(x, s)\n",
    "        if prt_step:\n",
    "            print(\"After %d iteration, the solution is updated to %s\" % (i+1, s) )\n",
    "    return s\n",
    "\n",
    "from sympy.abc import x\n",
    "f = x**2 - 2*x -4\n",
    "print(NewTon(f, s=2, maxiter=4, prt_step=True))"
   ]
  },
  {
   "cell_type": "markdown",
   "metadata": {},
   "source": [
    "Sympy 可以帮助我们求解方程，不要教坏小朋友们哦："
   ]
  },
  {
   "cell_type": "code",
   "execution_count": 7,
   "metadata": {},
   "outputs": [
    {
     "data": {
      "text/plain": [
       "[1 + sqrt(5), -sqrt(5) + 1]"
      ]
     },
     "execution_count": 7,
     "metadata": {},
     "output_type": "execute_result"
    }
   ],
   "source": [
    "import sympy\n",
    "sympy.solve(f, x)"
   ]
  },
  {
   "cell_type": "markdown",
   "metadata": {},
   "source": [
    "https://ryancheunggit.gitbooks.io/calculus-with-python/content/09Optimization.html"
   ]
  }
 ],
 "metadata": {
  "kernelspec": {
   "display_name": "Python 3",
   "language": "python",
   "name": "python3"
  },
  "language_info": {
   "codemirror_mode": {
    "name": "ipython",
    "version": 3
   },
   "file_extension": ".py",
   "mimetype": "text/x-python",
   "name": "python",
   "nbconvert_exporter": "python",
   "pygments_lexer": "ipython3",
   "version": "3.6.2"
  }
 },
 "nbformat": 4,
 "nbformat_minor": 2
}
