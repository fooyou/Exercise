{
 "cells": [
  {
   "cell_type": "markdown",
   "metadata": {},
   "source": [
    "# 欧拉公式\n",
    "\n",
    "## 欧拉公式（Euler's Formula）\n",
    "\n",
    "指数函数的多项式形式：\n",
    "\n",
    "$$e^x = 1 + \\frac{x}{1!} + \\frac{x^2}{2!} + \\cdots = \\sum_{k=0}^{\\infty}\\frac{x^i}{k!}$$\n",
    "\n",
    "接下来我们不仅暂时不去解释上式是如何来的，而是更丧心病狂地丢给读者两个有关三角函数的类似式子：\n",
    "\n",
    "$$sin(x) = \\frac{x}{1!}-\\frac{x^3}{3!}+\\frac{x^5}{5!}-\\frac{x^7}{7!}+... = \\sum_{k = 0}^{\\infty}{(-1)}^k\\frac{x^{(2k+1)}}{(2k+1)!}$$\n",
    "$$cos(x) = \\frac{x^0}{0!}-\\frac{x^2}{2!}+\\frac{x^4}{4!}-\\frac{x^6}{6!}+... = \\sum_{k = 0}^{\\infty}{(-1)}^k\\frac{x^{2k}}{(2k)!}$$\n",
    "\n",
    "在中学数学中，我们都接触过**虚数(Imaginary Number)**的概念，这里我们对其来源和意义暂不讨论，只是简单回顾一下其基本的运算规则：\n",
    "\n",
    "$i^0=1,\\quad i^1=i,\\quad i^2=-1,\\quad i^3=-i$\n",
    "\n",
    "$i^4=1,\\quad i^5=i,\\quad i^6=-1,\\quad i^7=-i$\n",
    "\n",
    "将 $ix$ 带入指数函数的公式中，我们获得：\n",
    "\n",
    "$e^{ix}=\\frac{(ix)^0}{0!}+\\frac{(ix)^1}{1!}+\\frac{(ix)^2}{2!}+\\frac{(ix)^3}{3!}+\\frac{(ix)^4}{4!}+\\frac{(ix)^5}{5!}+\\frac{(ix)^6}{6!}+\\frac{(ix)^7}{7!}+\\cdots$\n",
    "\n",
    "$\\qquad =\\frac{i^0x^0}{0!}+\\frac{i^1x^1}{1!}+\\frac{i^2x^2}{2!}+\\frac{i^3x^3}{3!}+\\frac{i^4x^4}{4!}+\\frac{i^5x^5}{5!}+\\frac{i^6x^6}{6!}+\\frac{i^7x^7}{7!}+\\cdots$\n",
    "\n",
    "$\\qquad = 1\\frac{x^0}{0!}+i\\frac{x^1}{1!}-1\\frac{x^2}{2!}-i\\frac{x^3}{3!}+1\\frac{x^4}{4!}+i\\frac{x^5}{5!}-1\\frac{x^6}{6!}-i\\frac{x^7}{7!}+\\cdots$\n",
    "\n",
    "$\\qquad = (\\frac{x^0}{0!}-\\frac{x^2}{2!}+\\frac{x^4}{4!}-\\frac{x^6}{6!}+...)+i(\\frac{x}{1!}-\\frac{x^3}{3!}+\\frac{x^5}{5!}-\\frac{x^7}{7!}+\\cdots)$\n",
    "\n",
    "$\\qquad = cos(x)+isin(x)$\n",
    "\n",
    "此时，我们便获得了著名的欧拉公式：$e^{ix} = cos(x)+isin(x)$\n",
    "特别地，令$x=\\pi$时：$e^{i\\pi}+1=0$\n",
    "\n",
    "欧拉公式在三角函数、圆周率、虚数以及自然指数之间建立的桥梁，在很多领域都扮演着重要的角色。\n",
    "\n",
    "如果你对欧拉公式的正确性感到疑惑，不妨在 Python 中验证一下："
   ]
  }
 ],
 "metadata": {
  "kernelspec": {
   "display_name": "Python 3",
   "language": "python",
   "name": "python3"
  },
  "language_info": {
   "codemirror_mode": {
    "name": "ipython",
    "version": 3
   },
   "file_extension": ".py",
   "mimetype": "text/x-python",
   "name": "python",
   "nbconvert_exporter": "python",
   "pygments_lexer": "ipython3",
   "version": "3.6.2"
  }
 },
 "nbformat": 4,
 "nbformat_minor": 2
}
