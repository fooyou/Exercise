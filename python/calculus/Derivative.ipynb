{
 "cells": [
  {
   "cell_type": "markdown",
   "metadata": {},
   "source": [
    "# 导数\n",
    "\n",
    "## 切线（Tangent line）\n",
    "\n",
    "中学介绍导数的时候，通常会举两个例子，其一是几何意上的例子：对函数关于某一点进行求导，得到的是函数该点处切线的斜率。\n",
    "\n",
    "选中函数图像中某一点，然后不断地将函数图放大，当我们将镜头拉至足够近后便会发现函数图看上去像一条直线，这条直线就是切线。"
   ]
  },
  {
   "cell_type": "code",
   "execution_count": 1,
   "metadata": {},
   "outputs": [
    {
     "data": {
      "image/png": "[encoded data removed]",
      "text/plain": [
       "<matplotlib.figure.Figure at 0x10e3cdc88>"
      ]
     },
     "metadata": {},
     "output_type": "display_data"
    }
   ],
   "source": [
    "import numpy as np\n",
    "import matplotlib.pyplot as plt\n",
    "from sympy.abc import x\n",
    "\n",
    "# 函数\n",
    "f = x**3 - 2*x - 6\n",
    "# 在 x=6 处正切于函数的切线\n",
    "line = 106*x - 438\n",
    "\n",
    "d1 = np.linspace(2, 10, 1000)\n",
    "d2 = np.linspace(4, 8, 1000)\n",
    "d3 = np.linspace(5, 7, 1000)\n",
    "d4 = np.linspace(5.8, 6.2, 1000)\n",
    "domains = [d1, d2, d3, d4]\n",
    "\n",
    "# 画图函数\n",
    "def makeplot(f, l, d):\n",
    "    plt.plot(d, [f.evalf(subs={x: xval}) for xval in d], 'b', \\\n",
    "             d, [l.evalf(subs={x: xval}) for xval in d], 'r')\n",
    "\n",
    "for i in range(len(domains)):\n",
    "    # 绘制包含多个子图的图表\n",
    "    plt.subplot(2, 2, i+1)\n",
    "    makeplot(f, line, domains[i])\n",
    "\n",
    "plt.show()"
   ]
  },
  {
   "cell_type": "markdown",
   "metadata": {},
   "source": [
    "另一个是物理中的例子：对路程的时间函数 $s(t)$ 求导可以得到速度的时间函数 $v(t)$，再进一步求导可以得到加速度的时间函数 $a(t)$ 这个理解较好，因为导数真正关心的事是：当我们稍微改变一点函数的输入值时，函数的输出值会有怎样变化。在单元时，导数看上去是曲线的切线斜率，但是到更多元时，就很难有“斜率”这样的直观感受了，但是输出值随着输入值的极小变化而产生的相应变化这样的理解还是成立的。\n",
    "\n",
    "## 导数（Derivative）\n",
    "\n",
    "导数的定义如下：\n",
    "\n",
    "**定义1：**\n",
    "\n",
    "$$f'(a) = \\frac{df}{dx}|_{x=a} = \\lim_{x\\rightarrow a} \\frac{f(x)-f(a)}{x-a}$$\n",
    "\n",
    "若该极限不存在，则函数在 $x=a$ 处的导数不存在。\n",
    "\n",
    "**定义2：**\n",
    "\n",
    "$$f'(a) = \\frac{df}{dx}|_{x=a} = \\lim_{h\\rightarrow 0} \\frac{f(a+h)-f(a)}{h}$$\n",
    "\n",
    "若该极限不存在，则函数在 $x=a$ 处的导数不存在。\n",
    "\n",
    "**定义3：**\n",
    "\n",
    "函数 $f(x)$ 在 $x=a$ 处的导数 $f'(a)$ 是满足如下条件的常数 $C$：\n",
    "\n",
    "对于在 $a$ 附近输入值的微小变化 $h$ 有：$f(a+h) = f(a) + Ch + O(h^2)$ 始终成立。也就是说导数 $C$ 是输出值变化中一阶项的系数。\n",
    "\n",
    "如果难以理解的话，对上式稍加变化，两边同时除以 $h$ 并同时取极限可以得到：\n",
    "\n",
    "$\\lim_{h\\rightarrow0} \\frac{f(a+h)-f(a)}{h} = \\lim_{h\\rightarrow0}C + O(h) = C$\n",
    "\n",
    "便于上面**定义2**相一致了。\n",
    "\n",
    "举一例，求 $cos(x)$ 在 $x=a$ 处的导数：\n",
    "\n",
    "$\\cos(a+h) = \\cos(a)\\cos(h) - \\sin(a)\\sin(h)$\n",
    "\n",
    "$\\qquad=\\cos(a)(1+O(h^2)) - \\sin(a)(h+O(h^2))$\n",
    "\n",
    "$\\qquad=\\cos(a) - \\sin(a)h + O(h^2)$\n",
    "\n",
    "*PS: cos(x) 和 sin(x) 的大O记法，请参考上一节内容*\n",
    "\n",
    "因此，$\\frac{d}{dx} \\cos(x)|_{x=a} = -\\sin(a)$\n",
    "\n",
    "各位读者可以自行回顾一下求导的规则和技巧，本书中便不进行展开了。\n",
    "\n",
    "我们可以如下定义自己的求导数的函数："
   ]
  },
  {
   "cell_type": "code",
   "execution_count": 6,
   "metadata": {},
   "outputs": [
    {
     "name": "stdout",
     "output_type": "stream",
     "text": [
      "106.00001800753489\n"
     ]
    }
   ],
   "source": [
    "f = lambda x: x**3 -2*x - 6\n",
    "# 我们设定参数h的默认值，如果调用函数时没有指明参数h的值，便会使用默认值\n",
    "def derivative(f, h=0.000001):\n",
    "    return lambda x: float(f(x+h) - f(x)) / h\n",
    "\n",
    "fprime = derivative(f)\n",
    "\n",
    "print(fprime(6))"
   ]
  },
  {
   "cell_type": "markdown",
   "metadata": {},
   "source": [
    "Sympy 也提供了求导的方法："
   ]
  },
  {
   "cell_type": "code",
   "execution_count": 7,
   "metadata": {},
   "outputs": [
    {
     "name": "stdout",
     "output_type": "stream",
     "text": [
      "3*x**2 - 2\n",
      "106.000000000000\n"
     ]
    }
   ],
   "source": [
    "from sympy.abc import x\n",
    "f = x**3 -2*x - 6\n",
    "print(f.diff())\n",
    "# 导函数为：3*x**2 - 2\n",
    "print(f.diff().evalf(subs={x:6}))\n",
    "# 106.000000000000"
   ]
  },
  {
   "cell_type": "markdown",
   "metadata": {},
   "source": [
    "## 线性近似（Linear approximation）\n",
    "\n",
    "依据导数的定义3，我们有：\n",
    "\n",
    "$f(a+h) = f(a) + f'(a)h + O(h^2)$\n",
    "\n",
    "如果将高阶项丢掉，就获得了 $f(a+h)$ 的线性近似式子：\n",
    "\n",
    "$f(a+h) \\approx f(a) + f'(a)h$\n",
    "\n",
    "举个例子，用线性近似的方法估算 $\\sqrt{255}$：\n",
    "\n",
    "$\\sqrt{256-1} \\approx \\sqrt{256} + \\frac{1}{2\\sqrt{256}}(-1)$\n",
    "\n",
    "$\\qquad=16 - \\frac{1}{32}$\n",
    "\n",
    "$\\qquad=15\\frac{31}{32}$"
   ]
  }
 ],
 "metadata": {
  "kernelspec": {
   "display_name": "Python 3",
   "language": "python",
   "name": "python3"
  },
  "language_info": {
   "codemirror_mode": {
    "name": "ipython",
    "version": 3
   },
   "file_extension": ".py",
   "mimetype": "text/x-python",
   "name": "python",
   "nbconvert_exporter": "python",
   "pygments_lexer": "ipython3",
   "version": "3.6.2"
  }
 },
 "nbformat": 4,
 "nbformat_minor": 2
}
